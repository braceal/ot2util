{
 "cells": [
  {
   "cell_type": "markdown",
   "metadata": {},
   "source": [
    "# Assignment 1: Colors\n",
    "\n",
    "### Problem description and approach\n",
    "Given a set of 5 colors, and a target color, we need to find the combination of 3 colors and their respective proportions in order to obtain a color that resembles target.  \n",
    "\n",
    "We view the problem as follows:\n",
    "- Given some 'objective' function, that takes in inputs (here, the 3 input colors and their respective ratios) and returns the target color, what are the input parameters that minimizes the value of the objective function?\n",
    "- The 'shape/graph' of the objective function is not known to us initially. Furthermore, we assume that evaluating (calling) this objective function is very expensive.\n",
    "- Thus, from an abstract level, we view the problem of finding the optimal inputs to the objective function without evaluating it at every point.\n",
    "\n",
    "This is a direct application of Bayesian Optimization.\n",
    "\n",
    "Formally, Bayesian Optimization is a class of machine-learning-based optimization methods focused on solving the problem ```argmax(f(x))```, where 'f' is the objective function and x is a d-dimensional vector of real numbers. Typically, d is not too large. In our example, d = 3, we repeat the bayesian optimization for every combination of 3 colors out of 5 available, and then choose the best combination.\n",
    "\n",
    "### Code structure\n",
    "This python notebook has the implementation of the bayesian optimization, and the utility functions provided by Prof. Foster are in a seperate python module - ```colors_util.py```."
   ]
  },
  {
   "cell_type": "code",
   "execution_count": 49,
   "metadata": {},
   "outputs": [],
   "source": [
    "# import sys\n",
    "# !{sys.executable} -m pip install colormath\n",
    "\n",
    "import scipy.stats\n",
    "import numpy as np\n",
    "from sklearn.gaussian_process import GaussianProcessRegressor\n",
    "import math\n",
    "from colors_util import show_colors, combine_colors, color_diff, construct_color, random_color\n",
    "import itertools"
   ]
  },
  {
   "cell_type": "code",
   "execution_count": 50,
   "metadata": {},
   "outputs": [],
   "source": [
    "# Our aim is to maximize this objective function.\n",
    "# Assumption is that calling the objective function is expensive.\n",
    "# Hence, we must call this as less as possible.\n",
    "def objective(X, colors, target_color):\n",
    "    assert(len(X) == 3)\n",
    "    assert(len(colors) == 3)\n",
    "    combination = combine_colors(colors[0], X[0], colors[1], X[1], colors[2], X[2])\n",
    "    return -color_diff(target_color, combination)"
   ]
  },
  {
   "cell_type": "code",
   "execution_count": 51,
   "metadata": {},
   "outputs": [],
   "source": [
    "# We approximate the objective function using a surrogate\n",
    "# This approximation gets better as more data points are explored\n",
    "# In bayesian terms, initially, this represents the prior distribution of approximated objective\n",
    "# As we evaluate datapoints, it represents a posterior distribution\n",
    "def surrogate(model, X):\n",
    "    return model.predict(X, return_std=True)\n",
    "\n",
    "# After we 'learn' an approximation from our observations so far,\n",
    "# the acquisition function tells us that given the current surrogate,\n",
    "# what is the 'scores' of exploring a given input point.\n",
    "# There are many choices. Here, I have used a probability of improvement acquisition function\n",
    "def acquisition(X, Xsamples, model):\n",
    "    yhat, _ = surrogate(model, X)\n",
    "    best = max(yhat)\n",
    "\n",
    "    # Calculate mean and std dev via surrogate\n",
    "    mu, std = surrogate(model, Xsamples)\n",
    "    mu = mu[0]\n",
    "\n",
    "    # calculate the probability of improvement\n",
    "    probs = scipy.stats.norm.cdf((mu - best) / (std+1E-9))\n",
    "    return probs\n",
    "\n",
    "# Optimize the acquisition function\n",
    "def opt_acquisition(X, model):\n",
    "    random_points = 120000 # another hyperparameter\n",
    "    Xsamples = np.random.random(random_points)\n",
    "    Xsamples = Xsamples.reshape(random_points//3, 3)\n",
    "\n",
    "    # calculate the acquisition score for each point\n",
    "    scores = acquisition(X, Xsamples, model)\n",
    "\n",
    "    # locate the index of the largest score\n",
    "    ix = np.argmax(scores)\n",
    "    return Xsamples[ix]"
   ]
  },
  {
   "cell_type": "code",
   "execution_count": 88,
   "metadata": {},
   "outputs": [],
   "source": [
    "# Takes in 3 colors and finds a combination to estimate target\n",
    "def bayes_opt(target, colors, threshold=-10):\n",
    "    num_starting_points = 10\n",
    "    X = np.random.random(3 * num_starting_points).reshape(num_starting_points, 3)\n",
    "    for i in range(num_starting_points):\n",
    "        x = X[i]\n",
    "        normalized_x = x / x.sum()\n",
    "        X[i] = normalized_x\n",
    "\n",
    "    y = np.asarray([objective(x, colors, target) for x in X])\n",
    "    y = y.reshape(len(y), 1)\n",
    "\n",
    "    model = GaussianProcessRegressor()\n",
    "    model.fit(X, y)\n",
    "\n",
    "    best_y_so_far = y[np.argmax(y)]\n",
    "    print(\"init\", best_y_so_far)\n",
    "\n",
    "    num_experiments = num_starting_points\n",
    "\n",
    "    while(best_y_so_far < threshold):\n",
    "        # select next point to sample\n",
    "        x = opt_acquisition(X, model)\n",
    "\n",
    "        actual = objective(x, colors, target)\n",
    "        num_experiments += 1\n",
    "\n",
    "        if actual > best_y_so_far:\n",
    "            best_y_so_far = actual\n",
    "            best_x = x\n",
    "            # print(\"Best found so far: \", best_x, best_y_so_far)\n",
    "\n",
    "        surrogate(model, [x])\n",
    "        X = np.vstack((X, x))\n",
    "        y = np.vstack((y, [actual]))\n",
    "\n",
    "        model.fit(X, y)\n",
    "\n",
    "    ix = np.argmax(y)\n",
    "    # print(y[ix], best_y_so_far)\n",
    "    # assert(y[ix] == best_y_so_far)\n",
    "    print(\"Best result: \", X[ix], y[ix])\n",
    "    print(num_experiments)\n",
    "\n",
    "    final_color = combine_colors(colors[0], X[ix][0], colors[1], X[ix][1], colors[2], X[ix][2])\n",
    "\n",
    "    colors.append(target)\n",
    "    colors.append(final_color)\n",
    "\n",
    "    show_colors(colors)"
   ]
  },
  {
   "cell_type": "code",
   "execution_count": 91,
   "metadata": {},
   "outputs": [
    {
     "name": "stdout",
     "output_type": "stream",
     "text": [
      "init [-10.97888533]\n",
      "Best result:  [0.28169465 0.38682917 0.74282069] [-9.28429922]\n",
      "37\n"
     ]
    },
    {
     "data": {
      "image/png": "[encoded data removed]",
      "text/plain": [
       "<Figure size 180x36 with 1 Axes>"
      ]
     },
     "metadata": {
      "needs_background": "light"
     },
     "output_type": "display_data"
    }
   ],
   "source": [
    "def find_a_good_combination(target, colors):\n",
    "    assert(len(colors) >= 3)\n",
    "    for colors_3_samples in itertools.combinations(colors, 3):\n",
    "        bayes_opt(target, list(colors_3_samples), -5)\n",
    "\n",
    "\n",
    "# First, we use the simple R-G-B example to validate our approach\n",
    "red   = construct_color(1.0, 0.0, 0.0)\n",
    "green = construct_color(0.0, 1.0, 0.0)\n",
    "blue  = construct_color(0.0, 0.0, 1.0)\n",
    "\n",
    "colors = [red, green, blue]\n",
    "target = construct_color(0.123, 0.456, 0.789)\n",
    "\n",
    "find_a_good_combination(target, colors)"
   ]
  },
  {
   "cell_type": "markdown",
   "metadata": {},
   "source": [
    "### Comparision to naive uniform search\n",
    "The uniform sampling strategy used 125 observations for finding an optimal mix of 3 colors. Here, we limit our number of observations to half that - 60 (10 initial + 50 iterations) and almost all of the times, obain a color that resembles the target much better than when we employed uniform search.\n",
    "\n",
    "### Drawbacks of this technique\n",
    "From the simple example above, we conclude a few drawbacks of our initial approach:\n",
    "- The result is highly inconsistent. The difference between the target color and the one that we find may be as high as about 10, or as low as about 1.5. In comparision, the naive uniform strategy returned a consistent result with no variance. I attribute this to the random nature of a few steps of my initial approach - the inital points chosen to construct the first posterior and the points chosen thereafter to get the 'best next' point according to the surrogate (posterior) is fairly random. A bit of intelligence in these steps would be a possible area of improvement.\n",
    "- This approach is very mathematically expensive - given that we use sophisticated mathematical models like the GaussianProcessRegressor, high number of floating point operations etc. It may be worthwile to evaluate if we are not exceeding the cost of using the objective function (color mix + color diff observe) itself. (Albeit these are different forms of 'expense': Color mixing and subsequent capturing color difference is a time consuming task as observed in the opentrons robot. A compute intensive approach like the one above may reduce the 'time' taken by bringing down the number of color mix + color diff observations, but the hardware costs may increase)."
   ]
  },
  {
   "cell_type": "markdown",
   "metadata": {},
   "source": [
    "### Random colors"
   ]
  },
  {
   "cell_type": "code",
   "execution_count": 54,
   "metadata": {},
   "outputs": [
    {
     "name": "stdout",
     "output_type": "stream",
     "text": [
      "Available colors:\n"
     ]
    },
    {
     "data": {
      "image/png": "[encoded data removed]",
      "text/plain": [
       "<Figure size 180x36 with 1 Axes>"
      ]
     },
     "metadata": {
      "needs_background": "light"
     },
     "output_type": "display_data"
    },
    {
     "name": "stdout",
     "output_type": "stream",
     "text": [
      "Target:\n"
     ]
    },
    {
     "data": {
      "image/png": "[encoded data removed]",
      "text/plain": [
       "<Figure size 36x36 with 1 Axes>"
      ]
     },
     "metadata": {
      "needs_background": "light"
     },
     "output_type": "display_data"
    },
    {
     "name": "stdout",
     "output_type": "stream",
     "text": [
      "Best result:  [0.26334846 0.04739292 0.68925862] [-7.85647768]\n",
      "100\n"
     ]
    },
    {
     "data": {
      "image/png": "[encoded data removed]",
      "text/plain": [
       "<Figure size 180x36 with 1 Axes>"
      ]
     },
     "metadata": {
      "needs_background": "light"
     },
     "output_type": "display_data"
    },
    {
     "name": "stdout",
     "output_type": "stream",
     "text": [
      "Best result:  [0.43131872 0.56192556 0.00675572] [-18.3230991]\n",
      "100\n"
     ]
    },
    {
     "data": {
      "image/png": "[encoded data removed]",
      "text/plain": [
       "<Figure size 180x36 with 1 Axes>"
      ]
     },
     "metadata": {
      "needs_background": "light"
     },
     "output_type": "display_data"
    },
    {
     "name": "stdout",
     "output_type": "stream",
     "text": [
      "Best result:  [0.27379808 0.09140012 0.6348018 ] [-12.88766305]\n",
      "100\n"
     ]
    },
    {
     "data": {
      "image/png": "[encoded data removed]",
      "text/plain": [
       "<Figure size 180x36 with 1 Axes>"
      ]
     },
     "metadata": {
      "needs_background": "light"
     },
     "output_type": "display_data"
    },
    {
     "name": "stdout",
     "output_type": "stream",
     "text": [
      "Best result:  [0.23554466 0.70925489 0.05520045] [-9.01895943]\n",
      "100\n"
     ]
    },
    {
     "data": {
      "image/png": "[encoded data removed]",
      "text/plain": [
       "<Figure size 180x36 with 1 Axes>"
      ]
     },
     "metadata": {
      "needs_background": "light"
     },
     "output_type": "display_data"
    },
    {
     "name": "stdout",
     "output_type": "stream",
     "text": [
      "Best result:  [0.23428569 0.72981913 0.03589518] [-7.49557903]\n",
      "100\n"
     ]
    },
    {
     "data": {
      "image/png": "[encoded data removed]",
      "text/plain": [
       "<Figure size 180x36 with 1 Axes>"
      ]
     },
     "metadata": {
      "needs_background": "light"
     },
     "output_type": "display_data"
    },
    {
     "name": "stdout",
     "output_type": "stream",
     "text": [
      "Best result:  [0.23028676 0.00625795 0.76345529] [-12.00543879]\n",
      "100\n"
     ]
    },
    {
     "data": {
      "image/png": "[encoded data removed]",
      "text/plain": [
       "<Figure size 180x36 with 1 Axes>"
      ]
     },
     "metadata": {
      "needs_background": "light"
     },
     "output_type": "display_data"
    },
    {
     "name": "stdout",
     "output_type": "stream",
     "text": [
      "Best result:  [0.26091302 0.71784463 0.02124234] [-19.46454394]\n",
      "100\n"
     ]
    },
    {
     "data": {
      "image/png": "[encoded data removed]",
      "text/plain": [
       "<Figure size 180x36 with 1 Axes>"
      ]
     },
     "metadata": {
      "needs_background": "light"
     },
     "output_type": "display_data"
    },
    {
     "name": "stdout",
     "output_type": "stream",
     "text": [
      "Best result:  [0.01060291 0.72177244 0.26762465] [-14.88672539]\n",
      "100\n"
     ]
    },
    {
     "data": {
      "image/png": "[encoded data removed]",
      "text/plain": [
       "<Figure size 180x36 with 1 Axes>"
      ]
     },
     "metadata": {
      "needs_background": "light"
     },
     "output_type": "display_data"
    },
    {
     "name": "stdout",
     "output_type": "stream",
     "text": [
      "Best result:  [0.12133514 0.08490828 0.79375658] [-22.05427797]\n",
      "100\n"
     ]
    },
    {
     "data": {
      "image/png": "[encoded data removed]",
      "text/plain": [
       "<Figure size 180x36 with 1 Axes>"
      ]
     },
     "metadata": {
      "needs_background": "light"
     },
     "output_type": "display_data"
    },
    {
     "name": "stdout",
     "output_type": "stream",
     "text": [
      "Best result:  [0.71884018 0.02275843 0.25840138] [-15.38704157]\n",
      "100\n"
     ]
    },
    {
     "data": {
      "image/png": "[encoded data removed]",
      "text/plain": [
       "<Figure size 180x36 with 1 Axes>"
      ]
     },
     "metadata": {
      "needs_background": "light"
     },
     "output_type": "display_data"
    }
   ],
   "source": [
    "# np.random.seed(1)\n",
    "\n",
    "colors = [random_color(), random_color(), random_color(), random_color(), random_color()]\n",
    "target = random_color()\n",
    "\n",
    "print('Available colors:')\n",
    "show_colors(colors)\n",
    "\n",
    "print(\"Target:\")\n",
    "show_colors([target])\n",
    "\n",
    "find_a_good_combination(target, colors)"
   ]
  },
  {
   "cell_type": "markdown",
   "metadata": {},
   "source": [
    "### References\n",
    "[1]: https://arxiv.org/pdf/1807.02811.pdf - an excellent introduction to bayesian optimization  \n",
    "[2]: https://towardsdatascience.com/the-beauty-of-bayesian-optimization-explained-in-simple-terms-81f3ee13b10f  \n",
    "[3]: https://en.wikipedia.org/wiki/Bayesian_optimization  \n",
    "[4]: https://machinelearningmastery.com/what-is-bayesian-optimization/\n"
   ]
  }
 ],
 "metadata": {
  "interpreter": {
   "hash": "2216b2a106dbcc506cf44cbf5993be8c0d3dffaae5558ea867e8b32380d2bf57"
  },
  "kernelspec": {
   "display_name": "Python 3.9.11 ('ot2')",
   "language": "python",
   "name": "python3"
  },
  "language_info": {
   "codemirror_mode": {
    "name": "ipython",
    "version": 3
   },
   "file_extension": ".py",
   "mimetype": "text/x-python",
   "name": "python",
   "nbconvert_exporter": "python",
   "pygments_lexer": "ipython3",
   "version": "3.9.7"
  },
  "orig_nbformat": 4
 },
 "nbformat": 4,
 "nbformat_minor": 2
}
